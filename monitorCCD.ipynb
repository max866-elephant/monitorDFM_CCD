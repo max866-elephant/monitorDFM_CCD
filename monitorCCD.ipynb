# -*- coding:utf-8 -*-
# max866 2024/03/08

import os
import requests
from datetime import datetime
#from dotenv import load_dotenv,find_dotenv

#load_dotenv(find_dotenv())
#token = os.environ.get('LineTK')
token = '輸入自己的LINE Notify token'

def main(url):
    rs=requests.get(url)
    print(f'現在時間:{datetime.now()} CCD狀態：{rs.status_code}')
    if rs.status_code != 200:
        msg = '觀測站CCD 異常!'
        lineNotifyMessage(token, msg)
    return


def lineNotifyMessage(token, msg):
    headers = {
          "Authorization": "Bearer " + token, 
          "Content-Type" : "application/x-www-form-urlencoded"
    }
 
    payload = {'message': msg}
    r = requests.post("https://notify-api.line.me/api/notify", headers = headers, params = payload)
    return r.status_code


if __name__ == "__main__":
    url = "https://dfm.ardswc.gov.tw/mydfm/CCD/Show?SID=573&ID=1&PLAY=1"
   
    while True:
        main(url)
        time.sleep(120)  # 暫停120秒
